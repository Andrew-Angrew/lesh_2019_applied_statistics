{
 "cells": [
  {
   "cell_type": "code",
   "execution_count": 37,
   "metadata": {},
   "outputs": [],
   "source": [
    "from scipy import stats\n",
    "from matplotlib import pyplot as plt\n",
    "import numpy as np"
   ]
  },
  {
   "cell_type": "markdown",
   "metadata": {},
   "source": [
    "## Распределения.\n",
    "\n",
    "Многие классические распределения представлены в scipy.stats при помощи классов.  \n",
    "Например stats.uniform -- класс соответствующий равномерному распределению.\n",
    "\n",
    "Документация по распределениям в scipy.stats просто ужасна. Функция help(...) просто неюзабельна (лучше ее не спрашивать, а сразу гуглить). Потому я и сделал эту шпаргалку.\n",
    "\n",
    "### Инициализация распределений\n",
    "\n",
    "stats.uniform(-1, 2) -- объект соответствующий равномерному распределению на отрезке $[-1, 1]$.  \n",
    "Обычно распределения для инициализации принимают 2 параметра loc и scale, которые для разных распределений имеют свой смысл.  \n",
    "Но в общих чертах loc задает насколько \"сдвинуто\" распределение, а scale -- насколько растянуто.  \n",
    "Например для равномерного распределение на отрезке $[a, b]$ loc равен $a$, а scale равен $b - a$.  \n",
    "А для нормального loc и scale задают матожидание и стандартное отклонение.\n"
   ]
  },
  {
   "cell_type": "code",
   "execution_count": 67,
   "metadata": {},
   "outputs": [],
   "source": [
    "distr = stats.uniform(-1, 2)"
   ]
  },
  {
   "cell_type": "markdown",
   "metadata": {},
   "source": [
    "### Что умеют распределения\n",
    "Во первых из них можно сэмплировать"
   ]
  },
  {
   "cell_type": "code",
   "execution_count": 77,
   "metadata": {},
   "outputs": [
    {
     "data": {
      "image/png": "[encoded data removed]",
      "text/plain": [
       "<Figure size 432x288 with 1 Axes>"
      ]
     },
     "metadata": {
      "needs_background": "light"
     },
     "output_type": "display_data"
    }
   ],
   "source": [
    "sample_size = 10 ** 6\n",
    "# Возьмем выборку независимых сэмплов размера sample_size. В качестве размера может быть tuple\n",
    "sample = distr.rvs(sample_size)\n",
    "\n",
    "plt.hist(sample, bins=100)\n",
    "plt.show()"
   ]
  },
  {
   "cell_type": "markdown",
   "metadata": {},
   "source": [
    "А еще распределения знают про себя кучу полезной информации:\n",
    "* distr.pdf(x) -- значения функции плотности в точках массива x. (для непрерывных распределений)\n",
    "* distr.pmf(x) -- вероятности точек массива x. (для дискретных распределений)\n",
    "* distr.cdf(x) -- значения функции распределения в точках массива x.\n",
    "* distr.ppf(alpha) -- alpha-тая квантиль. (т. е. вероятность того, что distr.rvs() < distr.ppf(0.05) равна 0.05).\n",
    "* distr.mean() (а также median, var, std) -- среднее, медиана, дисперсия, стандартное отклонение.\n"
   ]
  },
  {
   "cell_type": "code",
   "execution_count": 71,
   "metadata": {},
   "outputs": [
    {
     "data": {
      "image/png": "[encoded data removed]",
      "text/plain": [
       "<Figure size 432x288 with 1 Axes>"
      ]
     },
     "metadata": {
      "needs_background": "light"
     },
     "output_type": "display_data"
    }
   ],
   "source": [
    "x = np.linspace(-2, 2, 1000)\n",
    "plt.plot(x, distr.pdf(x), label=\"Плотность\")\n",
    "plt.plot(x, distr.cdf(x), label=\"Ф-ция распределения\")\n",
    "plt.legend()\n",
    "plt.show()"
   ]
  },
  {
   "cell_type": "code",
   "execution_count": 78,
   "metadata": {},
   "outputs": [
    {
     "data": {
      "image/png": "[encoded data removed]",
      "text/plain": [
       "<Figure size 432x288 with 1 Axes>"
      ]
     },
     "metadata": {
      "needs_background": "light"
     },
     "output_type": "display_data"
    }
   ],
   "source": [
    "# Проверим что distr.ppf и distr.cdf обратны дуг другу:\n",
    "probs = np.linspace(0, 1, 1001)\n",
    "probs2 = distr.cdf(distr.ppf(probs))\n",
    "assert np.allclose(probs, probs2)\n",
    "plt.plot(probs, probs2)\n",
    "plt.show()"
   ]
  },
  {
   "cell_type": "code",
   "execution_count": 82,
   "metadata": {},
   "outputs": [
    {
     "name": "stdout",
     "output_type": "stream",
     "text": [
      "0.099983\n"
     ]
    }
   ],
   "source": [
    "print(np.sum(sample < distr.ppf(0.1)) / sample_size)"
   ]
  },
  {
   "cell_type": "markdown",
   "metadata": {},
   "source": [
    "## Статистические тесты\n",
    "\n",
    "Для стат. тестов документация значительно лучше, поэтому буду краток.  \n",
    "Обычно тесты возврашают как результат пару (значение статистики, pvalue).  \n",
    "Еще у них часто есть опция alternative со следующими возможными значениями:\n",
    "* \"two-sided\" -- \n",
    "* \"less\" -- \n",
    "* \"greater\" -- \n"
   ]
  },
  {
   "cell_type": "code",
   "execution_count": 119,
   "metadata": {},
   "outputs": [
    {
     "data": {
      "text/plain": [
       "(1.2671889390246798e-05, 2.5343778780493596e-05)"
      ]
     },
     "execution_count": 119,
     "metadata": {},
     "output_type": "execute_result"
    }
   ],
   "source": [
    "n_tosses = 1000\n",
    "n_heads = stats.binom(n_tosses, 0.4).rvs()\n",
    "(stats.binom_test(\n",
    "    n_heads, n_tosses,\n",
    "    alternative=\"less\"\n",
    "),\n",
    "stats.binom_test(\n",
    "    n_heads, n_tosses,\n",
    "#     alternative=\"less\"\n",
    "))"
   ]
  },
  {
   "cell_type": "code",
   "execution_count": 122,
   "metadata": {},
   "outputs": [
    {
     "ename": "TypeError",
     "evalue": "ttest_ind() got an unexpected keyword argument 'alternative'",
     "output_type": "error",
     "traceback": [
      "\u001b[0;31m---------------------------------------------------------------------------\u001b[0m",
      "\u001b[0;31mTypeError\u001b[0m                                 Traceback (most recent call last)",
      "\u001b[0;32m<ipython-input-122-634ec1285d52>\u001b[0m in \u001b[0;36m<module>\u001b[0;34m\u001b[0m\n\u001b[0;32m----> 1\u001b[0;31m stats.ttest_ind(stats.norm().rvs(1000), stats.norm(1).rvs(1000), alternative=\"less\"\n\u001b[0m\u001b[1;32m      2\u001b[0m )\n",
      "\u001b[0;31mTypeError\u001b[0m: ttest_ind() got an unexpected keyword argument 'alternative'"
     ]
    }
   ],
   "source": [
    "stats.ttest_ind(stats.norm().rvs(1000), stats.norm(1).rvs(1000), alternative=\"less\"\n",
    ")"
   ]
  },
  {
   "cell_type": "code",
   "execution_count": 105,
   "metadata": {},
   "outputs": [
    {
     "data": {
      "text/plain": [
       "41"
      ]
     },
     "execution_count": 105,
     "metadata": {},
     "output_type": "execute_result"
    }
   ],
   "source": [
    "stats.binom(n_tosses, 0.4).rvs()"
   ]
  },
  {
   "cell_type": "code",
   "execution_count": 124,
   "metadata": {
    "scrolled": false
   },
   "outputs": [
    {
     "name": "stdout",
     "output_type": "stream",
     "text": [
      "Help on function ttest_rel in module scipy.stats.stats:\n",
      "\n",
      "ttest_rel(a, b, axis=0, nan_policy='propagate')\n",
      "    Calculate the T-test on TWO RELATED samples of scores, a and b.\n",
      "    \n",
      "    This is a two-sided test for the null hypothesis that 2 related or\n",
      "    repeated samples have identical average (expected) values.\n",
      "    \n",
      "    Parameters\n",
      "    ----------\n",
      "    a, b : array_like\n",
      "        The arrays must have the same shape.\n",
      "    axis : int or None, optional\n",
      "        Axis along which to compute test. If None, compute over the whole\n",
      "        arrays, `a`, and `b`.\n",
      "    nan_policy : {'propagate', 'raise', 'omit'}, optional\n",
      "        Defines how to handle when input contains nan. 'propagate' returns nan,\n",
      "        'raise' throws an error, 'omit' performs the calculations ignoring nan\n",
      "        values. Default is 'propagate'.\n",
      "    \n",
      "    Returns\n",
      "    -------\n",
      "    statistic : float or array\n",
      "        t-statistic\n",
      "    pvalue : float or array\n",
      "        two-tailed p-value\n",
      "    \n",
      "    Notes\n",
      "    -----\n",
      "    Examples for the use are scores of the same set of student in\n",
      "    different exams, or repeated sampling from the same units. The\n",
      "    test measures whether the average score differs significantly\n",
      "    across samples (e.g. exams). If we observe a large p-value, for\n",
      "    example greater than 0.05 or 0.1 then we cannot reject the null\n",
      "    hypothesis of identical average scores. If the p-value is smaller\n",
      "    than the threshold, e.g. 1%, 5% or 10%, then we reject the null\n",
      "    hypothesis of equal averages. Small p-values are associated with\n",
      "    large t-statistics.\n",
      "    \n",
      "    References\n",
      "    ----------\n",
      "    https://en.wikipedia.org/wiki/T-test#Dependent_t-test_for_paired_samples\n",
      "    \n",
      "    Examples\n",
      "    --------\n",
      "    >>> from scipy import stats\n",
      "    >>> np.random.seed(12345678) # fix random seed to get same numbers\n",
      "    \n",
      "    >>> rvs1 = stats.norm.rvs(loc=5,scale=10,size=500)\n",
      "    >>> rvs2 = (stats.norm.rvs(loc=5,scale=10,size=500) +\n",
      "    ...         stats.norm.rvs(scale=0.2,size=500))\n",
      "    >>> stats.ttest_rel(rvs1,rvs2)\n",
      "    (0.24101764965300962, 0.80964043445811562)\n",
      "    >>> rvs3 = (stats.norm.rvs(loc=8,scale=10,size=500) +\n",
      "    ...         stats.norm.rvs(scale=0.2,size=500))\n",
      "    >>> stats.ttest_rel(rvs1,rvs3)\n",
      "    (-3.9995108708727933, 7.3082402191726459e-005)\n",
      "\n"
     ]
    }
   ],
   "source": [
    "help(stats.ttest_rel)"
   ]
  },
  {
   "cell_type": "code",
   "execution_count": null,
   "metadata": {},
   "outputs": [],
   "source": [
    "!"
   ]
  }
 ],
 "metadata": {
  "kernelspec": {
   "display_name": "Python 3",
   "language": "python",
   "name": "python3"
  },
  "language_info": {
   "codemirror_mode": {
    "name": "ipython",
    "version": 3
   },
   "file_extension": ".py",
   "mimetype": "text/x-python",
   "name": "python",
   "nbconvert_exporter": "python",
   "pygments_lexer": "ipython3",
   "version": "3.7.1"
  }
 },
 "nbformat": 4,
 "nbformat_minor": 2
}
