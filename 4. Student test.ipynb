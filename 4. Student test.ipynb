{
 "cells": [
  {
   "cell_type": "code",
   "execution_count": 2,
   "metadata": {},
   "outputs": [],
   "source": [
    "from scipy.stats import ttest_ind, ttest_rel\n",
    "from scipy.stats import norm, uniform\n",
    "import numpy as np\n",
    "from matplotlib import pyplot as plt"
   ]
  },
  {
   "cell_type": "markdown",
   "metadata": {},
   "source": [
    "## Пример некорректного использования независимого теста Стьюдента.  \n",
    "Мы возьмем две величины X и Y с одинаковым матожиданием. Но они будут зависимы так, что Y всегда равна -X. Поэтому дисперсия их разницы $\\mathrm{D}(X - Y) = \\mathrm{D}(2 \\cdot X) = 4 \\cdot \\mathrm{D}(X)$. Но независимый тест Стьюдента будет оценивать ее как $\\widehat{\\mathrm{D}}(X) + \\widehat{\\mathrm{D}}(Y) \\approx 2 \\cdot \\mathrm{D}(X)$. Это значит, что он будет думать что эмпирическая оценка $\\widehat{\\mathrm{E}}(X - Y)$ более точна, чем она есть на самом деле и как следствие будет отвергать нулевую гипотезу чаще, чем нужно."
   ]
  },
  {
   "cell_type": "code",
   "execution_count": 5,
   "metadata": {},
   "outputs": [
    {
     "name": "stdout",
     "output_type": "stream",
     "text": [
      "0.1643\n"
     ]
    }
   ],
   "source": [
    "n_simulations = 10 ** 4\n",
    "sample_size = 100\n",
    "significance_level = 0.05\n",
    "distr = norm()\n",
    "\n",
    "n_rejections = 0\n",
    "for i in range(n_simulations):\n",
    "    sample_one = distr.rvs(sample_size)\n",
    "    sample_two = -sample_one\n",
    "    pvalue = ttest_ind(sample_one, sample_two).pvalue\n",
    "    if pvalue < significance_level:\n",
    "        n_rejections += 1\n",
    "\n",
    "print(n_rejections / n_simulations)"
   ]
  },
  {
   "cell_type": "markdown",
   "metadata": {},
   "source": [
    "В этом примере корреляция между двумя выборками отрицательна и поэтому независимый тест Стьюдента недооценивает $\\mathrm{D}(X - Y) = \\mathrm{D}(X) - 2 \\mathrm{Cov}(X, Y) + \\mathrm{D}(Y) > \\mathrm{D}(X) + \\mathrm{D}(Y)$ . Это приводит к лишним ложно-положительным результатам.  \n",
    "Забавно, что ошибиться вниз более чем в 2 раза таким образом нельзя т. к. $\\mathrm{D}(X - Y) \\leqslant 2 (\\mathrm{D}(X) + \\mathrm{D}(Y))$ (упражнение).\n",
    "\n",
    "\n",
    "## Зависимый тест Стьюдента.\n",
    "Если корреляция между выборками положительна, независимый тест будет переоценивать $\\mathrm{D}(X - Y)$ и как следствие будет слишком редко отвергать нулевую гипотезу (и мы будем упускать на самом деле статзначимые эффекты).\n",
    "\n",
    "Состряпаем на скорую руку пример подобной ситуации из реальных данных:"
   ]
  },
  {
   "cell_type": "code",
   "execution_count": 60,
   "metadata": {},
   "outputs": [],
   "source": [
    "from sklearn.linear_model import LinearRegression\n",
    "from sklearn.ensemble import RandomForestRegressor\n",
    "from sklearn.datasets import load_boston\n",
    "from sklearn.model_selection import train_test_split\n",
    "\n",
    "np.random.seed(0)\n",
    "X, y = load_boston(return_X_y=True)\n",
    "X_train, X_test, y_train, y_test = train_test_split(X, y, test_size=0.3)\n",
    "\n",
    "linear_model = LinearRegression().fit(X_train, y_train)\n",
    "random_forest = RandomForestRegressor(n_estimators=20).fit(X_train, y_train)\n",
    "\n",
    "linear_model_predictions = linear_model.predict(X_test)\n",
    "random_forest_predictions = random_forest.predict(X_test)\n",
    "\n",
    "linear_model_err = (linear_model_predictions - y_test) ** 2\n",
    "random_forest_err = (random_forest_predictions - y_test) ** 2"
   ]
  },
  {
   "cell_type": "code",
   "execution_count": 61,
   "metadata": {},
   "outputs": [
    {
     "name": "stdout",
     "output_type": "stream",
     "text": [
      "Среднее в первой выборке:   27.195965766883234\n",
      "Среднее во второй выборке:  17.264955427631573\n",
      "Корреляция: 0.9418284047865157\n"
     ]
    }
   ],
   "source": [
    "print(\"Среднее в первой выборке:   {}\".format(linear_model_err.mean()))\n",
    "print(\"Среднее во второй выборке:  {}\".format(random_forest_err.mean()))\n",
    "print(\"Корреляция: {}\".format(np.corrcoef(linear_model_err, random_forest_err)[0, 1]))"
   ]
  },
  {
   "cell_type": "code",
   "execution_count": 62,
   "metadata": {},
   "outputs": [
    {
     "name": "stdout",
     "output_type": "stream",
     "text": [
      "pvalue независимого теста Стьюдента: 0.24695138090525326\n"
     ]
    }
   ],
   "source": [
    "print(\"pvalue независимого теста Стьюдента: {}\".format(\n",
    "    ttest_ind(linear_model_err, random_forest_err).pvalue\n",
    "))"
   ]
  },
  {
   "cell_type": "code",
   "execution_count": 63,
   "metadata": {},
   "outputs": [
    {
     "name": "stdout",
     "output_type": "stream",
     "text": [
      "pvalue зависимого теста Стьюдента: 1.72490082175373e-05\n"
     ]
    }
   ],
   "source": [
    "print(\"pvalue зависимого теста Стьюдента: {}\".format(\n",
    "    ttest_rel(linear_model_err, random_forest_err).pvalue\n",
    "))"
   ]
  },
  {
   "cell_type": "markdown",
   "metadata": {},
   "source": [
    "Как видно ttest_ind упустил статзначимое отличие"
   ]
  },
  {
   "cell_type": "code",
   "execution_count": null,
   "metadata": {},
   "outputs": [],
   "source": []
  }
 ],
 "metadata": {
  "kernelspec": {
   "display_name": "Python 3",
   "language": "python",
   "name": "python3"
  },
  "language_info": {
   "codemirror_mode": {
    "name": "ipython",
    "version": 3
   },
   "file_extension": ".py",
   "mimetype": "text/x-python",
   "name": "python",
   "nbconvert_exporter": "python",
   "pygments_lexer": "ipython3",
   "version": "3.7.3"
  }
 },
 "nbformat": 4,
 "nbformat_minor": 2
}
