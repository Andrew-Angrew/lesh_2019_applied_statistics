{
 "cells": [
  {
   "cell_type": "code",
   "execution_count": 1,
   "metadata": {},
   "outputs": [],
   "source": [
    "import numpy as np\n",
    "from scipy.stats import uniform, norm, binom_test"
   ]
  },
  {
   "cell_type": "code",
   "execution_count": 2,
   "metadata": {},
   "outputs": [],
   "source": [
    "\n",
    "\n",
    "def calc_bootstrap_confidence_interval(\n",
    "    sample, statistic, method=\"quantile\",\n",
    "    n_resamples=1000, significance_level=0.05\n",
    "):\n",
    "    assert method in {\"quantile\", \"norm\"};\n",
    "    taken_indices = np.random.randint(0, len(sample), size=(n_resamples, len(sample)))\n",
    "    bootstrapped_samples = sample[taken_indices]\n",
    "    bootstrapped_stats = statistic(bootstrapped_samples, axis=1)\n",
    "\n",
    "    stat_val = statistic(sample)\n",
    "\n",
    "    if method == \"quantile\":\n",
    "        mean_val = np.mean(bootstrapped_stats)\n",
    "        upper_quantile = np.percentile(bootstrapped_stats, (1 - significance_level / 2) * 100)\n",
    "        lower_quantile = np.percentile(bootstrapped_stats, (significance_level / 2) * 100)\n",
    "        lower_bound = stat_val - (upper_quantile - mean_val)\n",
    "        upper_bound = stat_val + (mean_val - lower_quantile)\n",
    "    else:\n",
    "        dev = np.std(bootstrapped_stats, ddof=1) * norm.ppf(1 - significance_level / 2)\n",
    "        lower_bound = stat_val - dev\n",
    "        upper_bound = stat_val + dev\n",
    "\n",
    "    return (lower_bound, upper_bound)\n"
   ]
  },
  {
   "cell_type": "code",
   "execution_count": 3,
   "metadata": {
    "scrolled": false
   },
   "outputs": [
    {
     "name": "stdout",
     "output_type": "stream",
     "text": [
      "0.0525\n"
     ]
    },
    {
     "data": {
      "text/plain": [
       "0.251296217709316"
      ]
     },
     "execution_count": 3,
     "metadata": {},
     "output_type": "execute_result"
    }
   ],
   "source": [
    "def unbiased_variance(sample, axis=None):\n",
    "    return np.var(sample, axis=axis, ddof=1)\n",
    "\n",
    "def is_in(pt, interval):\n",
    "    return pt > interval[0] and pt < interval[1]\n",
    "\n",
    "n_simulations = 10000\n",
    "sample_size = 100\n",
    "distr = uniform(0, 1)\n",
    "mistakes_count = 0\n",
    "significance_level = 0.05\n",
    "method = \"norm\"\n",
    "\n",
    "for i in range(n_simulations):\n",
    "    sample = distr.rvs(sample_size)\n",
    "    interval = calc_bootstrap_confidence_interval(\n",
    "        sample, unbiased_variance, method=method,\n",
    "        significance_level=significance_level)\n",
    "    if not is_in(distr.var(), interval):\n",
    "        mistakes_count += 1\n",
    "\n",
    "print(mistakes_count / n_simulations)\n",
    "binom_test(mistakes_count, n_simulations, p=significance_level)\n"
   ]
  },
  {
   "cell_type": "markdown",
   "metadata": {},
   "source": [
    "### Вывод\n",
    "\n",
    "Бутстрэп работает не идеально, но количество ошибок достаточно близко к установленному уровню значимости (хоть и получается несколько больше в данном случае). Бутстрэп работает тем хуже чем меньше разме"
   ]
  },
  {
   "cell_type": "code",
   "execution_count": null,
   "metadata": {},
   "outputs": [],
   "source": []
  }
 ],
 "metadata": {
  "kernelspec": {
   "display_name": "Python 3",
   "language": "python",
   "name": "python3"
  },
  "language_info": {
   "codemirror_mode": {
    "name": "ipython",
    "version": 3
   },
   "file_extension": ".py",
   "mimetype": "text/x-python",
   "name": "python",
   "nbconvert_exporter": "python",
   "pygments_lexer": "ipython3",
   "version": "3.7.3"
  }
 },
 "nbformat": 4,
 "nbformat_minor": 2
}
